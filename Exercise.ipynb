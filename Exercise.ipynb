{
  "nbformat": 4,
  "nbformat_minor": 0,
  "metadata": {
    "colab": {
      "name": "Exercise.ipynb",
      "provenance": [],
      "authorship_tag": "ABX9TyMCiStRyCYR7xhFthl6v4FV",
      "include_colab_link": true
    },
    "kernelspec": {
      "name": "python3",
      "display_name": "Python 3"
    },
    "language_info": {
      "name": "python"
    },
    "accelerator": "GPU"
  },
  "cells": [
    {
      "cell_type": "markdown",
      "metadata": {
        "id": "view-in-github",
        "colab_type": "text"
      },
      "source": [
        "<a href=\"https://colab.research.google.com/github/yuyangweng/Deep_Learning_Coursera/blob/main/Exercise.ipynb\" target=\"_parent\"><img src=\"https://colab.research.google.com/assets/colab-badge.svg\" alt=\"Open In Colab\"/></a>"
      ]
    },
    {
      "cell_type": "markdown",
      "metadata": {
        "id": "MMQTBzAxOFKQ"
      },
      "source": [
        "#LeNet"
      ]
    },
    {
      "cell_type": "code",
      "metadata": {
        "id": "61qrkX9FBKa0"
      },
      "source": [
        "import tensorflow as tf\n",
        "import tensorflow.keras\n",
        "from tensorflow.keras import layers\n",
        "from tensorflow.keras import optimizers\n",
        "from tensorflow.keras import models\n",
        "from tensorflow.keras.models import Model\n",
        "from tensorflow.keras.layers import Input,Conv2D, Dense, Flatten, MaxPooling2D\n",
        "from tensorflow.keras.utils import to_categorical\n",
        "from keras.models import Sequential\n",
        "from keras.datasets import cifar10\n",
        "import numpy as np"
      ],
      "execution_count": 2,
      "outputs": []
    },
    {
      "cell_type": "code",
      "metadata": {
        "id": "IsSE1yz-BsnI"
      },
      "source": [
        "(x_train, y_train), (x_test, y_test) = cifar10.load_data()\n",
        "y_train = keras.utils.to_categorical(y_train, 10)\n",
        "y_test = keras.utils.to_categorical(y_test, 10)\n",
        "x_train = x_train.astype('float32')\n",
        "x_test = x_test.astype('float32')\n",
        "x_train /= 255.0\n",
        "x_test /= 255.0"
      ],
      "execution_count": 37,
      "outputs": []
    },
    {
      "cell_type": "code",
      "metadata": {
        "colab": {
          "base_uri": "https://localhost:8080/"
        },
        "id": "E_N2ObDNDAAG",
        "outputId": "bfaa2b98-eedb-4a95-bf2d-51c08bef27fb"
      },
      "source": [
        "model = models.Sequential()\n",
        "model.add(Conv2D(filters=6, kernel_size=(5, 5), padding='valid', activation = 'relu', input_shape=(32,32,3)))\n",
        "model.add(MaxPooling2D((2, 2), strides=(2, 2)))\n",
        "model.add(Conv2D(16, kernel_size=(5, 5), padding='valid', activation = 'relu'))\n",
        "model.add(MaxPooling2D((2, 2), strides=(2, 2)))\n",
        "model.add(Flatten())\n",
        "model.add(Dense(120, activation = 'relu'))\n",
        "model.add(Dense(84, activation = 'relu'))\n",
        "model.add(Dense(10, activation = 'softmax'))\n",
        "model.summary()\n",
        "sgd = optimizers.SGD(learning_rate=0.01, momentum=0.9, nesterov=True)\n",
        "model.compile(loss='categorical_crossentropy', optimizer=sgd, metrics=['accuracy'])\n",
        "\n"
      ],
      "execution_count": 23,
      "outputs": [
        {
          "output_type": "stream",
          "text": [
            "Model: \"sequential_3\"\n",
            "_________________________________________________________________\n",
            "Layer (type)                 Output Shape              Param #   \n",
            "=================================================================\n",
            "conv2d_22 (Conv2D)           (None, 28, 28, 6)         456       \n",
            "_________________________________________________________________\n",
            "max_pooling2d_21 (MaxPooling (None, 14, 14, 6)         0         \n",
            "_________________________________________________________________\n",
            "conv2d_23 (Conv2D)           (None, 10, 10, 16)        2416      \n",
            "_________________________________________________________________\n",
            "max_pooling2d_22 (MaxPooling (None, 5, 5, 16)          0         \n",
            "_________________________________________________________________\n",
            "flatten_10 (Flatten)         (None, 400)               0         \n",
            "_________________________________________________________________\n",
            "dense_30 (Dense)             (None, 120)               48120     \n",
            "_________________________________________________________________\n",
            "dense_31 (Dense)             (None, 84)                10164     \n",
            "_________________________________________________________________\n",
            "dense_32 (Dense)             (None, 10)                850       \n",
            "=================================================================\n",
            "Total params: 62,006\n",
            "Trainable params: 62,006\n",
            "Non-trainable params: 0\n",
            "_________________________________________________________________\n"
          ],
          "name": "stdout"
        }
      ]
    },
    {
      "cell_type": "code",
      "metadata": {
        "colab": {
          "base_uri": "https://localhost:8080/"
        },
        "id": "b_E3f4qzDtwf",
        "outputId": "206b79da-d846-4ffd-cbaa-c9a28884f4dd"
      },
      "source": [
        "from tensorflow import keras\n",
        "checkpoint = keras.callbacks.ModelCheckpoint('LeNet.h5', monitor='val_accuracy', mode=\"max\", save_best_only=True, verbose=1)\n",
        "earlystopping = keras.callbacks.EarlyStopping(monitor='val_accuracy', mode=\"max\", patience=10, verbose=1)\n",
        "rlr = keras.callbacks.ReduceLROnPlateau(monitor='val_loss', factor=0.2, patience=10, verbose=1, mode='auto', min_delta=0.0001)\n",
        "\n",
        "\n",
        "model.fit(x_train, y_train, epochs=100, batch_size=512,\n",
        "     validation_split=0.2, callbacks=[checkpoint,earlystopping,rlr])\n"
      ],
      "execution_count": 26,
      "outputs": [
        {
          "output_type": "stream",
          "text": [
            "Epoch 1/100\n",
            "79/79 [==============================] - 1s 11ms/step - loss: 0.9188 - accuracy: 0.6773 - val_loss: 1.4436 - val_accuracy: 0.5403\n",
            "\n",
            "Epoch 00001: val_accuracy improved from -inf to 0.54030, saving model to mov.h5\n",
            "Epoch 2/100\n",
            "79/79 [==============================] - 1s 9ms/step - loss: 0.9110 - accuracy: 0.6791 - val_loss: 1.3717 - val_accuracy: 0.5486\n",
            "\n",
            "Epoch 00002: val_accuracy improved from 0.54030 to 0.54860, saving model to mov.h5\n",
            "Epoch 3/100\n",
            "79/79 [==============================] - 1s 9ms/step - loss: 0.8964 - accuracy: 0.6846 - val_loss: 1.2536 - val_accuracy: 0.5769\n",
            "\n",
            "Epoch 00003: val_accuracy improved from 0.54860 to 0.57690, saving model to mov.h5\n",
            "Epoch 4/100\n",
            "79/79 [==============================] - 1s 9ms/step - loss: 0.8783 - accuracy: 0.6908 - val_loss: 1.2500 - val_accuracy: 0.5796\n",
            "\n",
            "Epoch 00004: val_accuracy improved from 0.57690 to 0.57960, saving model to mov.h5\n",
            "Epoch 5/100\n",
            "79/79 [==============================] - 1s 9ms/step - loss: 0.8711 - accuracy: 0.6939 - val_loss: 1.3282 - val_accuracy: 0.5666\n",
            "\n",
            "Epoch 00005: val_accuracy did not improve from 0.57960\n",
            "Epoch 6/100\n",
            "79/79 [==============================] - 1s 8ms/step - loss: 0.8616 - accuracy: 0.6970 - val_loss: 1.3368 - val_accuracy: 0.5704\n",
            "\n",
            "Epoch 00006: val_accuracy did not improve from 0.57960\n",
            "Epoch 7/100\n",
            "79/79 [==============================] - 1s 8ms/step - loss: 0.8499 - accuracy: 0.7027 - val_loss: 1.3709 - val_accuracy: 0.5579\n",
            "\n",
            "Epoch 00007: val_accuracy did not improve from 0.57960\n",
            "Epoch 8/100\n",
            "79/79 [==============================] - 1s 8ms/step - loss: 0.8388 - accuracy: 0.7072 - val_loss: 1.3842 - val_accuracy: 0.5529\n",
            "\n",
            "Epoch 00008: val_accuracy did not improve from 0.57960\n",
            "Epoch 9/100\n",
            "79/79 [==============================] - 1s 8ms/step - loss: 0.8187 - accuracy: 0.7131 - val_loss: 1.3283 - val_accuracy: 0.5753\n",
            "\n",
            "Epoch 00009: val_accuracy did not improve from 0.57960\n",
            "Epoch 10/100\n",
            "79/79 [==============================] - 1s 8ms/step - loss: 0.8162 - accuracy: 0.7114 - val_loss: 1.4008 - val_accuracy: 0.5564\n",
            "\n",
            "Epoch 00010: val_accuracy did not improve from 0.57960\n",
            "Epoch 11/100\n",
            "79/79 [==============================] - 1s 8ms/step - loss: 0.7983 - accuracy: 0.7213 - val_loss: 1.4278 - val_accuracy: 0.5449\n",
            "\n",
            "Epoch 00011: val_accuracy did not improve from 0.57960\n",
            "Epoch 12/100\n",
            "79/79 [==============================] - 1s 9ms/step - loss: 0.7926 - accuracy: 0.7207 - val_loss: 1.3603 - val_accuracy: 0.5699\n",
            "\n",
            "Epoch 00012: val_accuracy did not improve from 0.57960\n",
            "Epoch 13/100\n",
            "79/79 [==============================] - 1s 8ms/step - loss: 0.7824 - accuracy: 0.7246 - val_loss: 1.4520 - val_accuracy: 0.5550\n",
            "\n",
            "Epoch 00013: val_accuracy did not improve from 0.57960\n",
            "Epoch 14/100\n",
            "79/79 [==============================] - 1s 8ms/step - loss: 0.7736 - accuracy: 0.7287 - val_loss: 1.3597 - val_accuracy: 0.5628\n",
            "\n",
            "Epoch 00014: val_accuracy did not improve from 0.57960\n",
            "\n",
            "Epoch 00014: ReduceLROnPlateau reducing learning rate to 0.0019999999552965165.\n",
            "Epoch 00014: early stopping\n"
          ],
          "name": "stdout"
        },
        {
          "output_type": "execute_result",
          "data": {
            "text/plain": [
              "<tensorflow.python.keras.callbacks.History at 0x7f9ef8185cd0>"
            ]
          },
          "metadata": {
            "tags": []
          },
          "execution_count": 26
        }
      ]
    },
    {
      "cell_type": "code",
      "metadata": {
        "colab": {
          "base_uri": "https://localhost:8080/"
        },
        "id": "KEIj7ux1D_dG",
        "outputId": "485653a1-7b3b-4c45-d793-4abbe5156721"
      },
      "source": [
        "model.evaluate(x_test, y_test, batch_size=512)"
      ],
      "execution_count": 39,
      "outputs": [
        {
          "output_type": "stream",
          "text": [
            "20/20 [==============================] - 0s 6ms/step - loss: 1.3474 - accuracy: 0.5635\n"
          ],
          "name": "stdout"
        },
        {
          "output_type": "execute_result",
          "data": {
            "text/plain": [
              "[1.3473856449127197, 0.5634999871253967]"
            ]
          },
          "metadata": {
            "tags": []
          },
          "execution_count": 39
        }
      ]
    },
    {
      "cell_type": "markdown",
      "metadata": {
        "id": "VBvUmk-bOJiJ"
      },
      "source": [
        "#AlexNet"
      ]
    },
    {
      "cell_type": "code",
      "metadata": {
        "id": "Lb83cEMxKIqL"
      },
      "source": [
        "import tensorflow as tf\n",
        "import tensorflow.keras\n",
        "from tensorflow.keras import layers\n",
        "from tensorflow.keras import optimizers\n",
        "from tensorflow.keras import models\n",
        "from tensorflow.keras.models import Model\n",
        "from tensorflow.keras.layers import Input,Conv2D, Dense, Flatten, MaxPooling2D,Dropout\n",
        "from tensorflow.keras.utils import to_categorical\n",
        "from keras.models import Sequential\n",
        "from keras.datasets import cifar10\n",
        "import numpy as np"
      ],
      "execution_count": 56,
      "outputs": []
    },
    {
      "cell_type": "code",
      "metadata": {
        "id": "rMKo9JLDOPqF"
      },
      "source": [
        "(x_train, y_train), (x_test, y_test) = cifar10.load_data()\n",
        "y_train = keras.utils.to_categorical(y_train, 10)\n",
        "y_test = keras.utils.to_categorical(y_test, 10)\n",
        "# x_train = x_train.astype('float32')\n",
        "# x_test = x_test.astype('float32')\n",
        "x_train = x_train/255.0\n",
        "x_test = x_test/255.0\n"
      ],
      "execution_count": 41,
      "outputs": []
    },
    {
      "cell_type": "code",
      "metadata": {
        "id": "2uOu-kgOOR_B"
      },
      "source": [
        "def alexnet(img_input,classes=10):\n",
        "    x = Conv2D(96,(11,11),strides=(4,4),padding='same',\n",
        "               activation='relu',kernel_initializer='uniform')(img_input)\n",
        "    x = MaxPooling2D(pool_size=(3,3),strides=(2,2),padding='same',data_format='channels_last')(x)\n",
        "    \n",
        "    x = Conv2D(256,(5,5),strides=(1,1),padding='same',\n",
        "               activation='relu',kernel_initializer='uniform')(x)\n",
        "    x = MaxPooling2D(pool_size=(3,3),strides=(2,2),padding='same',data_format='channels_last')(x)\n",
        "    \n",
        "    x = Conv2D(384,(3,3),strides=(1,1),padding='same',\n",
        "               activation='relu',kernel_initializer='uniform')(x) \n",
        "    \n",
        "    x = Conv2D(384,(3,3),strides=(1,1),padding='same',\n",
        "               activation='relu',kernel_initializer='uniform')(x) \n",
        "    \n",
        "    x = Conv2D(256,(3,3),strides=(1,1),padding='same',\n",
        "               activation='relu',kernel_initializer='uniform')(x)\n",
        "    x = MaxPooling2D(pool_size=(3,3),strides=(2,2),padding='same',data_format='channels_last')(x)\n",
        "    x = Flatten()(x)\n",
        "    x = Dense(4096,activation='relu')(x)\n",
        "    x = Dropout(0.5)(x)\n",
        "    x = Dense(4096,activation='relu')(x)\n",
        "    x = Dropout(0.5)(x)\n",
        "    out = Dense(classes, activation='softmax')(x)\n",
        "    return out"
      ],
      "execution_count": 57,
      "outputs": []
    },
    {
      "cell_type": "code",
      "metadata": {
        "colab": {
          "base_uri": "https://localhost:8080/"
        },
        "id": "SYms3FYMSXA0",
        "outputId": "b2d6d7c8-3ba4-418c-a77b-09d9bd08d0f6"
      },
      "source": [
        "input=Input(shape=(32,32,3))\n",
        "output=alexnet(img_input=input,classes=10)\n",
        "model=Model(input,output)\n",
        "model.summary()\n",
        "sgd = optimizers.SGD(learning_rate=0.01, momentum=0.9, nesterov=True)\n",
        "model.compile(loss='categorical_crossentropy', optimizer=sgd, metrics=['accuracy'])\n"
      ],
      "execution_count": 61,
      "outputs": [
        {
          "output_type": "stream",
          "text": [
            "Model: \"model_1\"\n",
            "_________________________________________________________________\n",
            "Layer (type)                 Output Shape              Param #   \n",
            "=================================================================\n",
            "input_9 (InputLayer)         [(None, 32, 32, 3)]       0         \n",
            "_________________________________________________________________\n",
            "conv2d_44 (Conv2D)           (None, 8, 8, 96)          34944     \n",
            "_________________________________________________________________\n",
            "max_pooling2d_32 (MaxPooling (None, 4, 4, 96)          0         \n",
            "_________________________________________________________________\n",
            "conv2d_45 (Conv2D)           (None, 4, 4, 256)         614656    \n",
            "_________________________________________________________________\n",
            "max_pooling2d_33 (MaxPooling (None, 2, 2, 256)         0         \n",
            "_________________________________________________________________\n",
            "conv2d_46 (Conv2D)           (None, 2, 2, 384)         885120    \n",
            "_________________________________________________________________\n",
            "conv2d_47 (Conv2D)           (None, 2, 2, 384)         1327488   \n",
            "_________________________________________________________________\n",
            "conv2d_48 (Conv2D)           (None, 2, 2, 256)         884992    \n",
            "_________________________________________________________________\n",
            "max_pooling2d_34 (MaxPooling (None, 1, 1, 256)         0         \n",
            "_________________________________________________________________\n",
            "flatten_14 (Flatten)         (None, 256)               0         \n",
            "_________________________________________________________________\n",
            "dense_40 (Dense)             (None, 4096)              1052672   \n",
            "_________________________________________________________________\n",
            "dropout_4 (Dropout)          (None, 4096)              0         \n",
            "_________________________________________________________________\n",
            "dense_41 (Dense)             (None, 4096)              16781312  \n",
            "_________________________________________________________________\n",
            "dropout_5 (Dropout)          (None, 4096)              0         \n",
            "_________________________________________________________________\n",
            "dense_42 (Dense)             (None, 10)                40970     \n",
            "=================================================================\n",
            "Total params: 21,622,154\n",
            "Trainable params: 21,622,154\n",
            "Non-trainable params: 0\n",
            "_________________________________________________________________\n"
          ],
          "name": "stdout"
        }
      ]
    },
    {
      "cell_type": "code",
      "metadata": {
        "colab": {
          "base_uri": "https://localhost:8080/"
        },
        "id": "5mIAL-HaOYSW",
        "outputId": "54af3966-d2b4-460e-81ed-ea2410897792"
      },
      "source": [
        "from tensorflow import keras\n",
        "checkpoint = keras.callbacks.ModelCheckpoint('LeNet.h5', monitor='val_accuracy', mode=\"max\", save_best_only=True, verbose=1)\n",
        "earlystopping = keras.callbacks.EarlyStopping(monitor='val_accuracy', mode=\"max\", patience=10, verbose=1)\n",
        "rlr = keras.callbacks.ReduceLROnPlateau(monitor='val_loss', factor=0.2, patience=10, verbose=1, mode='auto', min_delta=0.0001)\n",
        "\n",
        "\n",
        "model.fit(x_train, y_train, epochs=100, batch_size=512,\n",
        "     validation_split=0.2, callbacks=[checkpoint,earlystopping,rlr])"
      ],
      "execution_count": 62,
      "outputs": [
        {
          "output_type": "stream",
          "text": [
            "Epoch 1/100\n",
            "79/79 [==============================] - 10s 81ms/step - loss: 2.2531 - accuracy: 0.1432 - val_loss: 2.0784 - val_accuracy: 0.2313\n",
            "\n",
            "Epoch 00001: val_accuracy improved from -inf to 0.23130, saving model to LeNet.h5\n",
            "Epoch 2/100\n",
            "79/79 [==============================] - 5s 64ms/step - loss: 1.9972 - accuracy: 0.2508 - val_loss: 2.0077 - val_accuracy: 0.2512\n",
            "\n",
            "Epoch 00002: val_accuracy improved from 0.23130 to 0.25120, saving model to LeNet.h5\n",
            "Epoch 3/100\n",
            "79/79 [==============================] - 5s 64ms/step - loss: 1.8251 - accuracy: 0.3241 - val_loss: 1.8592 - val_accuracy: 0.3418\n",
            "\n",
            "Epoch 00003: val_accuracy improved from 0.25120 to 0.34180, saving model to LeNet.h5\n",
            "Epoch 4/100\n",
            "79/79 [==============================] - 5s 63ms/step - loss: 1.6546 - accuracy: 0.3953 - val_loss: 1.5770 - val_accuracy: 0.4216\n",
            "\n",
            "Epoch 00004: val_accuracy improved from 0.34180 to 0.42160, saving model to LeNet.h5\n",
            "Epoch 5/100\n",
            "79/79 [==============================] - 5s 63ms/step - loss: 1.5316 - accuracy: 0.4401 - val_loss: 1.6687 - val_accuracy: 0.3908\n",
            "\n",
            "Epoch 00005: val_accuracy did not improve from 0.42160\n",
            "Epoch 6/100\n",
            "79/79 [==============================] - 5s 62ms/step - loss: 1.4521 - accuracy: 0.4711 - val_loss: 1.5561 - val_accuracy: 0.4342\n",
            "\n",
            "Epoch 00006: val_accuracy improved from 0.42160 to 0.43420, saving model to LeNet.h5\n",
            "Epoch 7/100\n",
            "79/79 [==============================] - 5s 62ms/step - loss: 1.3807 - accuracy: 0.4964 - val_loss: 1.4423 - val_accuracy: 0.4833\n",
            "\n",
            "Epoch 00007: val_accuracy improved from 0.43420 to 0.48330, saving model to LeNet.h5\n",
            "Epoch 8/100\n",
            "79/79 [==============================] - 5s 62ms/step - loss: 1.3199 - accuracy: 0.5247 - val_loss: 1.4098 - val_accuracy: 0.5036\n",
            "\n",
            "Epoch 00008: val_accuracy improved from 0.48330 to 0.50360, saving model to LeNet.h5\n",
            "Epoch 9/100\n",
            "79/79 [==============================] - 5s 61ms/step - loss: 1.2642 - accuracy: 0.5438 - val_loss: 1.6183 - val_accuracy: 0.4373\n",
            "\n",
            "Epoch 00009: val_accuracy did not improve from 0.50360\n",
            "Epoch 10/100\n",
            "79/79 [==============================] - 5s 62ms/step - loss: 1.2254 - accuracy: 0.5605 - val_loss: 1.3245 - val_accuracy: 0.5451\n",
            "\n",
            "Epoch 00010: val_accuracy improved from 0.50360 to 0.54510, saving model to LeNet.h5\n",
            "Epoch 11/100\n",
            "79/79 [==============================] - 5s 61ms/step - loss: 1.1687 - accuracy: 0.5786 - val_loss: 1.3060 - val_accuracy: 0.5438\n",
            "\n",
            "Epoch 00011: val_accuracy did not improve from 0.54510\n",
            "Epoch 12/100\n",
            "79/79 [==============================] - 5s 61ms/step - loss: 1.1253 - accuracy: 0.5983 - val_loss: 1.4345 - val_accuracy: 0.5037\n",
            "\n",
            "Epoch 00012: val_accuracy did not improve from 0.54510\n",
            "Epoch 13/100\n",
            "79/79 [==============================] - 5s 61ms/step - loss: 1.0885 - accuracy: 0.6103 - val_loss: 1.3403 - val_accuracy: 0.5269\n",
            "\n",
            "Epoch 00013: val_accuracy did not improve from 0.54510\n",
            "Epoch 14/100\n",
            "79/79 [==============================] - 5s 62ms/step - loss: 1.0404 - accuracy: 0.6287 - val_loss: 1.4212 - val_accuracy: 0.5329\n",
            "\n",
            "Epoch 00014: val_accuracy did not improve from 0.54510\n",
            "Epoch 15/100\n",
            "79/79 [==============================] - 5s 62ms/step - loss: 0.9975 - accuracy: 0.6468 - val_loss: 1.2153 - val_accuracy: 0.5788\n",
            "\n",
            "Epoch 00015: val_accuracy improved from 0.54510 to 0.57880, saving model to LeNet.h5\n",
            "Epoch 16/100\n",
            "79/79 [==============================] - 5s 62ms/step - loss: 0.9408 - accuracy: 0.6645 - val_loss: 1.3104 - val_accuracy: 0.5612\n",
            "\n",
            "Epoch 00016: val_accuracy did not improve from 0.57880\n",
            "Epoch 17/100\n",
            "79/79 [==============================] - 5s 62ms/step - loss: 0.9226 - accuracy: 0.6730 - val_loss: 1.2547 - val_accuracy: 0.5763\n",
            "\n",
            "Epoch 00017: val_accuracy did not improve from 0.57880\n",
            "Epoch 18/100\n",
            "79/79 [==============================] - 5s 62ms/step - loss: 0.8568 - accuracy: 0.6970 - val_loss: 1.1982 - val_accuracy: 0.6097\n",
            "\n",
            "Epoch 00018: val_accuracy improved from 0.57880 to 0.60970, saving model to LeNet.h5\n",
            "Epoch 19/100\n",
            "79/79 [==============================] - 5s 63ms/step - loss: 0.8223 - accuracy: 0.7082 - val_loss: 1.3903 - val_accuracy: 0.5598\n",
            "\n",
            "Epoch 00019: val_accuracy did not improve from 0.60970\n",
            "Epoch 20/100\n",
            "79/79 [==============================] - 5s 64ms/step - loss: 0.7930 - accuracy: 0.7205 - val_loss: 1.2130 - val_accuracy: 0.6102\n",
            "\n",
            "Epoch 00020: val_accuracy improved from 0.60970 to 0.61020, saving model to LeNet.h5\n",
            "Epoch 21/100\n",
            "79/79 [==============================] - 5s 64ms/step - loss: 0.7498 - accuracy: 0.7362 - val_loss: 1.3395 - val_accuracy: 0.5948\n",
            "\n",
            "Epoch 00021: val_accuracy did not improve from 0.61020\n",
            "Epoch 22/100\n",
            "79/79 [==============================] - 5s 63ms/step - loss: 0.6786 - accuracy: 0.7635 - val_loss: 1.4312 - val_accuracy: 0.5524\n",
            "\n",
            "Epoch 00022: val_accuracy did not improve from 0.61020\n",
            "Epoch 23/100\n",
            "79/79 [==============================] - 5s 64ms/step - loss: 0.6538 - accuracy: 0.7707 - val_loss: 1.3575 - val_accuracy: 0.5758\n",
            "\n",
            "Epoch 00023: val_accuracy did not improve from 0.61020\n",
            "Epoch 24/100\n",
            "79/79 [==============================] - 5s 64ms/step - loss: 0.7543 - accuracy: 0.7426 - val_loss: 1.5942 - val_accuracy: 0.5356\n",
            "\n",
            "Epoch 00024: val_accuracy did not improve from 0.61020\n",
            "Epoch 25/100\n",
            "79/79 [==============================] - 5s 63ms/step - loss: 0.6169 - accuracy: 0.7853 - val_loss: 1.3972 - val_accuracy: 0.5754\n",
            "\n",
            "Epoch 00025: val_accuracy did not improve from 0.61020\n",
            "Epoch 26/100\n",
            "79/79 [==============================] - 5s 63ms/step - loss: 0.5205 - accuracy: 0.8194 - val_loss: 1.8211 - val_accuracy: 0.5369\n",
            "\n",
            "Epoch 00026: val_accuracy did not improve from 0.61020\n",
            "Epoch 27/100\n",
            "79/79 [==============================] - 5s 63ms/step - loss: 0.4937 - accuracy: 0.8302 - val_loss: 1.5030 - val_accuracy: 0.5814\n",
            "\n",
            "Epoch 00027: val_accuracy did not improve from 0.61020\n",
            "Epoch 28/100\n",
            "79/79 [==============================] - 5s 62ms/step - loss: 0.4509 - accuracy: 0.8435 - val_loss: 1.3558 - val_accuracy: 0.6280\n",
            "\n",
            "Epoch 00028: val_accuracy improved from 0.61020 to 0.62800, saving model to LeNet.h5\n",
            "\n",
            "Epoch 00028: ReduceLROnPlateau reducing learning rate to 0.0019999999552965165.\n",
            "Epoch 29/100\n",
            "79/79 [==============================] - 5s 62ms/step - loss: 0.2851 - accuracy: 0.9059 - val_loss: 1.3498 - val_accuracy: 0.6536\n",
            "\n",
            "Epoch 00029: val_accuracy improved from 0.62800 to 0.65360, saving model to LeNet.h5\n",
            "Epoch 30/100\n",
            "79/79 [==============================] - 5s 62ms/step - loss: 0.2004 - accuracy: 0.9377 - val_loss: 1.4167 - val_accuracy: 0.6495\n",
            "\n",
            "Epoch 00030: val_accuracy did not improve from 0.65360\n",
            "Epoch 31/100\n",
            "79/79 [==============================] - 5s 62ms/step - loss: 0.1739 - accuracy: 0.9469 - val_loss: 1.4663 - val_accuracy: 0.6520\n",
            "\n",
            "Epoch 00031: val_accuracy did not improve from 0.65360\n",
            "Epoch 32/100\n",
            "79/79 [==============================] - 5s 62ms/step - loss: 0.1546 - accuracy: 0.9552 - val_loss: 1.5172 - val_accuracy: 0.6507\n",
            "\n",
            "Epoch 00032: val_accuracy did not improve from 0.65360\n",
            "Epoch 33/100\n",
            "79/79 [==============================] - 5s 62ms/step - loss: 0.1404 - accuracy: 0.9611 - val_loss: 1.5575 - val_accuracy: 0.6536\n",
            "\n",
            "Epoch 00033: val_accuracy did not improve from 0.65360\n",
            "Epoch 34/100\n",
            "79/79 [==============================] - 5s 63ms/step - loss: 0.1236 - accuracy: 0.9664 - val_loss: 1.6114 - val_accuracy: 0.6539\n",
            "\n",
            "Epoch 00034: val_accuracy improved from 0.65360 to 0.65390, saving model to LeNet.h5\n",
            "Epoch 35/100\n",
            "79/79 [==============================] - 5s 62ms/step - loss: 0.1136 - accuracy: 0.9696 - val_loss: 1.6568 - val_accuracy: 0.6500\n",
            "\n",
            "Epoch 00035: val_accuracy did not improve from 0.65390\n",
            "Epoch 36/100\n",
            "79/79 [==============================] - 5s 63ms/step - loss: 0.1016 - accuracy: 0.9742 - val_loss: 1.6924 - val_accuracy: 0.6480\n",
            "\n",
            "Epoch 00036: val_accuracy did not improve from 0.65390\n",
            "Epoch 37/100\n",
            "79/79 [==============================] - 5s 62ms/step - loss: 0.0899 - accuracy: 0.9779 - val_loss: 1.7278 - val_accuracy: 0.6462\n",
            "\n",
            "Epoch 00037: val_accuracy did not improve from 0.65390\n",
            "Epoch 38/100\n",
            "79/79 [==============================] - 5s 62ms/step - loss: 0.0807 - accuracy: 0.9811 - val_loss: 1.7892 - val_accuracy: 0.6460\n",
            "\n",
            "Epoch 00038: val_accuracy did not improve from 0.65390\n",
            "\n",
            "Epoch 00038: ReduceLROnPlateau reducing learning rate to 0.0003999999724328518.\n",
            "Epoch 39/100\n",
            "79/79 [==============================] - 5s 63ms/step - loss: 0.0749 - accuracy: 0.9832 - val_loss: 1.7841 - val_accuracy: 0.6501\n",
            "\n",
            "Epoch 00039: val_accuracy did not improve from 0.65390\n",
            "Epoch 40/100\n",
            "79/79 [==============================] - 5s 63ms/step - loss: 0.0640 - accuracy: 0.9865 - val_loss: 1.8045 - val_accuracy: 0.6492\n",
            "\n",
            "Epoch 00040: val_accuracy did not improve from 0.65390\n",
            "Epoch 41/100\n",
            "79/79 [==============================] - 5s 63ms/step - loss: 0.0626 - accuracy: 0.9879 - val_loss: 1.8206 - val_accuracy: 0.6500\n",
            "\n",
            "Epoch 00041: val_accuracy did not improve from 0.65390\n",
            "Epoch 42/100\n",
            "79/79 [==============================] - 5s 63ms/step - loss: 0.0607 - accuracy: 0.9880 - val_loss: 1.8334 - val_accuracy: 0.6483\n",
            "\n",
            "Epoch 00042: val_accuracy did not improve from 0.65390\n",
            "Epoch 43/100\n",
            "79/79 [==============================] - 5s 62ms/step - loss: 0.0598 - accuracy: 0.9884 - val_loss: 1.8420 - val_accuracy: 0.6493\n",
            "\n",
            "Epoch 00043: val_accuracy did not improve from 0.65390\n",
            "Epoch 44/100\n",
            "79/79 [==============================] - 5s 62ms/step - loss: 0.0573 - accuracy: 0.9887 - val_loss: 1.8513 - val_accuracy: 0.6484\n",
            "\n",
            "Epoch 00044: val_accuracy did not improve from 0.65390\n",
            "Epoch 00044: early stopping\n"
          ],
          "name": "stdout"
        },
        {
          "output_type": "execute_result",
          "data": {
            "text/plain": [
              "<tensorflow.python.keras.callbacks.History at 0x7f9eea4d3e10>"
            ]
          },
          "metadata": {
            "tags": []
          },
          "execution_count": 62
        }
      ]
    },
    {
      "cell_type": "code",
      "metadata": {
        "id": "5tnhP1jtT81Z"
      },
      "source": [
        ""
      ],
      "execution_count": null,
      "outputs": []
    }
  ]
}